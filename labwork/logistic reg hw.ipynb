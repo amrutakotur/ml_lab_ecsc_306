{
 "cells": [
  {
   "cell_type": "code",
   "execution_count": 18,
   "metadata": {},
   "outputs": [
    {
     "name": "stdout",
     "output_type": "stream",
     "text": [
      "(0.99143172686725, 0.9393031606605634, 9.943876969909653)\n"
     ]
    }
   ],
   "source": [
    "import tensorflow as tf\n",
    "import numpy as np\n",
    "#Sample Data : \n",
    "dataset = [[2.7810836,2.550537003,0],\n",
    "[1.465489372,2.362125076,0],\n",
    "[3.396561688,4.400293529,0],\n",
    "[1.38807019,1.850220317,0],\n",
    "[3.06407232,3.005305973,0],\n",
    "[7.627531214,2.759262235,1],\n",
    "[5.332441248,2.088626775,1],\n",
    "[6.922596716,1.77106367,1],\n",
    "[8.675418651,-0.242068655,1],\n",
    "[7.673756466,3.508563011,1]]\n",
    "\n",
    "\n",
    "\n",
    "def grident_d(data, learning_rate, variance):\n",
    "\n",
    "    theta0_guess = 1.\n",
    "    theta1_guess = 1.\n",
    "    theta2_guess = 1.\n",
    "\n",
    "    theta0_priv = 10.\n",
    "    theta1_priv = 10.\n",
    "    theta2_priv = 10.\n",
    "\n",
    "    m = len(data)\n",
    "\n",
    "    while (abs(theta1_guess-theta1_priv) > variance or abs(theta0_guess - theta0_priv) > variance or abs(theta2_guess - theta2_priv) > variance):\n",
    "\n",
    "        theta1_priv = theta1_guess\n",
    "        theta0_priv = theta0_guess\n",
    "        theta2_guess =theta2_priv\n",
    "        hypothesis =lambda x: theta1_guess*x + theta0_guess\n",
    "\n",
    "        theta0_guess -=  learning_rate * (1./(2*m)) * sum([hypothesis(point[0]) - point[1] for point in data])\n",
    "        theta1_guess -=  learning_rate * (1./(2*m)) * sum([ (hypothesis(point[0]) - point[1]) * point[0] for point in data])   \n",
    "        theta2_guess -=  learning_rate * (1./(2*m)) * sum([ (hypothesis(point[0]) - point[1]) * point[0] for point in data])   \n",
    "\n",
    "    return ( theta0_guess,theta1_guess,theta2_guess)\n",
    "\n",
    "\n",
    "\n",
    "points = [(float(x),float(y),float(z)) for (x,y,z) in dataset]\n",
    "v=np.var(dataset)\n",
    "\n",
    "res = grident_d(points,0.005,v)\n",
    "print(res)\n",
    "\n"
   ]
  },
  {
   "cell_type": "code",
   "execution_count": 1,
   "metadata": {},
   "outputs": [
    {
     "name": "stdout",
     "output_type": "stream",
     "text": [
      "After 10 epochs, accuracy = 0.5\n",
      "After 20 epochs, accuracy = 0.5\n",
      "After 30 epochs, accuracy = 0.5\n",
      "After 40 epochs, accuracy = 0.5\n",
      "After 50 epochs, accuracy = 0.5\n",
      "After 60 epochs, accuracy = 0.5\n",
      "After 70 epochs, accuracy = 0.5\n",
      "After 80 epochs, accuracy = 0.5\n",
      "After 90 epochs, accuracy = 0.5\n",
      "After 100 epochs, accuracy = 0.5\n",
      "W = [ 1.09407088 -1.57244211]\n",
      "b = -0.546480121825\n"
     ]
    },
    {
     "data": {
      "image/png": "[encoded data removed]",
      "text/plain": [
       "<matplotlib.figure.Figure at 0x7f8ebe64d588>"
      ]
     },
     "metadata": {},
     "output_type": "display_data"
    }
   ],
   "source": [
    "import numpy as np\n",
    "import matplotlib.pyplot as plt\n",
    "\n",
    "data = np.loadtxt('/home/komal/1.txt')\n",
    "\n",
    "\n",
    "X_data = data[:,:2]\n",
    "Y_data = data[:,2:] \n",
    "\n",
    "#h theta(x) hypothesis is given by sigmoid function\n",
    "def sigmoid(x):\n",
    "    return 1/(1 + np.exp(-x))\n",
    "\n",
    "def predict(x, W, b):\n",
    "    logits = np.matmul(x, W) + b\n",
    "    return 1 * (logits >= 0)\n",
    "\n",
    "def compute_accuracy(x, W, b, y):\n",
    "    labels = predict(x, W, b)\n",
    "    return np.mean(labels == y)\n",
    "\n",
    "def compute_gradients(x, W, b, y):\n",
    "    logits = np.matmul(x, W) + b\n",
    "    y_pred = sigmoid(logits)\n",
    "    error  = y_pred - y\n",
    "\n",
    "    dLdW  = np.mean(error * x.T, axis=1)\n",
    "    dLdb  = np.mean(error)\n",
    "\n",
    "    return dLdW, dLdb\n",
    "\n",
    "# Hyperparameters\n",
    "learning_rate = 0.01\n",
    "num_epochs    = 100\n",
    "\n",
    "\n",
    "W = np.zeros(2)\n",
    "b = 0.0\n",
    "\n",
    "\n",
    "np.random.seed(0)\n",
    "\n",
    "# Minimize the loss function\n",
    "for epoch in range(num_epochs):\n",
    "    # Present each data point once in random order\n",
    "    idx = np.random.permutation(data.shape[0])\n",
    "    for i in idx:\n",
    "        grads = compute_gradients(X_data[i:i+1], W, b, Y_data[i:i+1])\n",
    "        W -= learning_rate * grads[0]\n",
    "        b -= learning_rate * grads[1]\n",
    "\n",
    "    # Progress report\n",
    "    if (epoch+1) % 10 == 0:\n",
    "        accuracy = compute_accuracy(X_data, W, b, Y_data)\n",
    "        print(\"After {} epochs, accuracy = {}\".format(epoch+1, accuracy))\n",
    "\n",
    "# Print the result\n",
    "print(\"W =\", W)\n",
    "print(\"b =\", b)\n",
    "# Model predictions\n",
    "labels = predict(X_data, W, b)\n",
    "\n",
    "# Find indices for the two species\n",
    "idx_0, = np.where(labels == 0)\n",
    "idx_1, = np.where(labels == 1)\n",
    "\n",
    "# Plot the data\n",
    "plt.plot(X_data[idx_0,0], X_data[idx_0,1], 'bo')\n",
    "plt.plot(X_data[idx_1,0], X_data[idx_1,1], 'ro')\n",
    "\n",
    "# Plot the separating hyperplane\n",
    "x_sep = np.linspace(X_data[:,0].min(), X_data[:,0].max())\n",
    "y_sep = (-b - W[0]*x_sep) / W[1]\n",
    "plt.plot(x_sep, y_sep, 'm', label=\"Decision boundary\")\n",
    "\n",
    "# Legend\n",
    "plt.legend()\n",
    "\n",
    "plt.show()"
   ]
  },
  {
   "cell_type": "code",
   "execution_count": null,
   "metadata": {
    "collapsed": true
   },
   "outputs": [],
   "source": []
  }
 ],
 "metadata": {
  "kernelspec": {
   "display_name": "Python 3",
   "language": "python",
   "name": "python3"
  },
  "language_info": {
   "codemirror_mode": {
    "name": "ipython",
    "version": 3
   },
   "file_extension": ".py",
   "mimetype": "text/x-python",
   "name": "python",
   "nbconvert_exporter": "python",
   "pygments_lexer": "ipython3",
   "version": "3.6.1"
  }
 },
 "nbformat": 4,
 "nbformat_minor": 2
}
